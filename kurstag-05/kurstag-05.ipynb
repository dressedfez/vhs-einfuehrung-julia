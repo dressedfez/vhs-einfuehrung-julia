{
 "cells": [
  {
   "cell_type": "markdown",
   "metadata": {},
   "source": [
    "# Einführung in Julia: Kurstag 5\n",
    "__Data Science, CSV, Dataframes, Download__"
   ]
  },
  {
   "cell_type": "code",
   "execution_count": 3,
   "metadata": {},
   "outputs": [
    {
     "name": "stderr",
     "output_type": "stream",
     "text": [
      "\u001b[32m\u001b[1m  Activating\u001b[22m\u001b[39m project at `~/private/vhs-einfuehrung-julia-2023/kurstag-05`\n"
     ]
    }
   ],
   "source": [
    "] activate ."
   ]
  },
  {
   "cell_type": "code",
   "execution_count": 2,
   "metadata": {},
   "outputs": [],
   "source": [
    "using DataFrames, CSV, Plots"
   ]
  },
  {
   "cell_type": "markdown",
   "metadata": {},
   "source": [
    "# Erstellen und Manipulieren eines Dataframes"
   ]
  },
  {
   "cell_type": "code",
   "execution_count": 4,
   "metadata": {},
   "outputs": [
    {
     "data": {
      "text/html": [
       "<div><div style = \"float: left;\"><span>1×4 DataFrame</span></div><div style = \"clear: both;\"></div></div><div class = \"data-frame\" style = \"overflow-x: scroll;\"><table class = \"data-frame\" style = \"margin-bottom: 6px;\"><thead><tr class = \"header\"><th class = \"rowNumber\" style = \"font-weight: bold; text-align: right;\">Row</th><th style = \"text-align: left;\">name</th><th style = \"text-align: left;\">nachname</th><th style = \"text-align: left;\">alter</th><th style = \"text-align: left;\">geschlecht</th></tr><tr class = \"subheader headerLastRow\"><th class = \"rowNumber\" style = \"font-weight: bold; text-align: right;\"></th><th title = \"String\" style = \"text-align: left;\">String</th><th title = \"String\" style = \"text-align: left;\">String</th><th title = \"Int64\" style = \"text-align: left;\">Int64</th><th title = \"String\" style = \"text-align: left;\">String</th></tr></thead><tbody><tr><td class = \"rowNumber\" style = \"font-weight: bold; text-align: right;\">1</td><td style = \"text-align: left;\">Frank</td><td style = \"text-align: left;\">Zimmer</td><td style = \"text-align: right;\">45</td><td style = \"text-align: left;\">m</td></tr></tbody></table></div>"
      ],
      "text/latex": [
       "\\begin{tabular}{r|cccc}\n",
       "\t& name & nachname & alter & geschlecht\\\\\n",
       "\t\\hline\n",
       "\t& String & String & Int64 & String\\\\\n",
       "\t\\hline\n",
       "\t1 & Frank & Zimmer & 45 & m \\\\\n",
       "\\end{tabular}\n"
      ],
      "text/plain": [
       "\u001b[1m1×4 DataFrame\u001b[0m\n",
       "\u001b[1m Row \u001b[0m│\u001b[1m name   \u001b[0m\u001b[1m nachname \u001b[0m\u001b[1m alter \u001b[0m\u001b[1m geschlecht \u001b[0m\n",
       "     │\u001b[90m String \u001b[0m\u001b[90m String   \u001b[0m\u001b[90m Int64 \u001b[0m\u001b[90m String     \u001b[0m\n",
       "─────┼─────────────────────────────────────\n",
       "   1 │ Frank   Zimmer       45  m"
      ]
     },
     "execution_count": 4,
     "metadata": {},
     "output_type": "execute_result"
    }
   ],
   "source": [
    "personen = DataFrame([(name=\"Frank\",nachname=\"Zimmer\",alter=45, geschlecht=\"m\")])"
   ]
  },
  {
   "cell_type": "markdown",
   "metadata": {},
   "source": [
    "mit dem folgenden Kommando kann man die Tabelle (Dataframe) erweitern:"
   ]
  },
  {
   "cell_type": "code",
   "execution_count": 5,
   "metadata": {},
   "outputs": [
    {
     "data": {
      "text/html": [
       "<div><div style = \"float: left;\"><span>2×4 DataFrame</span></div><div style = \"clear: both;\"></div></div><div class = \"data-frame\" style = \"overflow-x: scroll;\"><table class = \"data-frame\" style = \"margin-bottom: 6px;\"><thead><tr class = \"header\"><th class = \"rowNumber\" style = \"font-weight: bold; text-align: right;\">Row</th><th style = \"text-align: left;\">name</th><th style = \"text-align: left;\">nachname</th><th style = \"text-align: left;\">alter</th><th style = \"text-align: left;\">geschlecht</th></tr><tr class = \"subheader headerLastRow\"><th class = \"rowNumber\" style = \"font-weight: bold; text-align: right;\"></th><th title = \"String\" style = \"text-align: left;\">String</th><th title = \"String\" style = \"text-align: left;\">String</th><th title = \"Int64\" style = \"text-align: left;\">Int64</th><th title = \"String\" style = \"text-align: left;\">String</th></tr></thead><tbody><tr><td class = \"rowNumber\" style = \"font-weight: bold; text-align: right;\">1</td><td style = \"text-align: left;\">Frank</td><td style = \"text-align: left;\">Zimmer</td><td style = \"text-align: right;\">45</td><td style = \"text-align: left;\">m</td></tr><tr><td class = \"rowNumber\" style = \"font-weight: bold; text-align: right;\">2</td><td style = \"text-align: left;\">Karl</td><td style = \"text-align: left;\">Schmidt</td><td style = \"text-align: right;\">37</td><td style = \"text-align: left;\">m</td></tr></tbody></table></div>"
      ],
      "text/latex": [
       "\\begin{tabular}{r|cccc}\n",
       "\t& name & nachname & alter & geschlecht\\\\\n",
       "\t\\hline\n",
       "\t& String & String & Int64 & String\\\\\n",
       "\t\\hline\n",
       "\t1 & Frank & Zimmer & 45 & m \\\\\n",
       "\t2 & Karl & Schmidt & 37 & m \\\\\n",
       "\\end{tabular}\n"
      ],
      "text/plain": [
       "\u001b[1m2×4 DataFrame\u001b[0m\n",
       "\u001b[1m Row \u001b[0m│\u001b[1m name   \u001b[0m\u001b[1m nachname \u001b[0m\u001b[1m alter \u001b[0m\u001b[1m geschlecht \u001b[0m\n",
       "     │\u001b[90m String \u001b[0m\u001b[90m String   \u001b[0m\u001b[90m Int64 \u001b[0m\u001b[90m String     \u001b[0m\n",
       "─────┼─────────────────────────────────────\n",
       "   1 │ Frank   Zimmer       45  m\n",
       "   2 │ Karl    Schmidt      37  m"
      ]
     },
     "execution_count": 5,
     "metadata": {},
     "output_type": "execute_result"
    }
   ],
   "source": [
    "push!(personen,(name=\"Karl\",nachname=\"Schmidt\",alter=37, geschlecht=\"m\"))"
   ]
  },
  {
   "cell_type": "markdown",
   "metadata": {},
   "source": [
    "möchte man es am Anfang einfügen, so nutzt man:"
   ]
  },
  {
   "cell_type": "code",
   "execution_count": 6,
   "metadata": {},
   "outputs": [
    {
     "data": {
      "text/html": [
       "<div><div style = \"float: left;\"><span>3×4 DataFrame</span></div><div style = \"clear: both;\"></div></div><div class = \"data-frame\" style = \"overflow-x: scroll;\"><table class = \"data-frame\" style = \"margin-bottom: 6px;\"><thead><tr class = \"header\"><th class = \"rowNumber\" style = \"font-weight: bold; text-align: right;\">Row</th><th style = \"text-align: left;\">name</th><th style = \"text-align: left;\">nachname</th><th style = \"text-align: left;\">alter</th><th style = \"text-align: left;\">geschlecht</th></tr><tr class = \"subheader headerLastRow\"><th class = \"rowNumber\" style = \"font-weight: bold; text-align: right;\"></th><th title = \"String\" style = \"text-align: left;\">String</th><th title = \"String\" style = \"text-align: left;\">String</th><th title = \"Int64\" style = \"text-align: left;\">Int64</th><th title = \"String\" style = \"text-align: left;\">String</th></tr></thead><tbody><tr><td class = \"rowNumber\" style = \"font-weight: bold; text-align: right;\">1</td><td style = \"text-align: left;\">Johanna</td><td style = \"text-align: left;\">Müller</td><td style = \"text-align: right;\">28</td><td style = \"text-align: left;\">w</td></tr><tr><td class = \"rowNumber\" style = \"font-weight: bold; text-align: right;\">2</td><td style = \"text-align: left;\">Frank</td><td style = \"text-align: left;\">Zimmer</td><td style = \"text-align: right;\">45</td><td style = \"text-align: left;\">m</td></tr><tr><td class = \"rowNumber\" style = \"font-weight: bold; text-align: right;\">3</td><td style = \"text-align: left;\">Karl</td><td style = \"text-align: left;\">Schmidt</td><td style = \"text-align: right;\">37</td><td style = \"text-align: left;\">m</td></tr></tbody></table></div>"
      ],
      "text/latex": [
       "\\begin{tabular}{r|cccc}\n",
       "\t& name & nachname & alter & geschlecht\\\\\n",
       "\t\\hline\n",
       "\t& String & String & Int64 & String\\\\\n",
       "\t\\hline\n",
       "\t1 & Johanna & Müller & 28 & w \\\\\n",
       "\t2 & Frank & Zimmer & 45 & m \\\\\n",
       "\t3 & Karl & Schmidt & 37 & m \\\\\n",
       "\\end{tabular}\n"
      ],
      "text/plain": [
       "\u001b[1m3×4 DataFrame\u001b[0m\n",
       "\u001b[1m Row \u001b[0m│\u001b[1m name    \u001b[0m\u001b[1m nachname \u001b[0m\u001b[1m alter \u001b[0m\u001b[1m geschlecht \u001b[0m\n",
       "     │\u001b[90m String  \u001b[0m\u001b[90m String   \u001b[0m\u001b[90m Int64 \u001b[0m\u001b[90m String     \u001b[0m\n",
       "─────┼──────────────────────────────────────\n",
       "   1 │ Johanna  Müller       28  w\n",
       "   2 │ Frank    Zimmer       45  m\n",
       "   3 │ Karl     Schmidt      37  m"
      ]
     },
     "execution_count": 6,
     "metadata": {},
     "output_type": "execute_result"
    }
   ],
   "source": [
    "pushfirst!(personen,(name=\"Johanna\",nachname=\"Müller\",alter=28, geschlecht=\"w\"))"
   ]
  },
  {
   "cell_type": "code",
   "execution_count": 7,
   "metadata": {},
   "outputs": [
    {
     "data": {
      "text/html": [
       "<div><div style = \"float: left;\"><span>5×4 DataFrame</span></div><div style = \"clear: both;\"></div></div><div class = \"data-frame\" style = \"overflow-x: scroll;\"><table class = \"data-frame\" style = \"margin-bottom: 6px;\"><thead><tr class = \"header\"><th class = \"rowNumber\" style = \"font-weight: bold; text-align: right;\">Row</th><th style = \"text-align: left;\">name</th><th style = \"text-align: left;\">nachname</th><th style = \"text-align: left;\">alter</th><th style = \"text-align: left;\">geschlecht</th></tr><tr class = \"subheader headerLastRow\"><th class = \"rowNumber\" style = \"font-weight: bold; text-align: right;\"></th><th title = \"String\" style = \"text-align: left;\">String</th><th title = \"String\" style = \"text-align: left;\">String</th><th title = \"Int64\" style = \"text-align: left;\">Int64</th><th title = \"String\" style = \"text-align: left;\">String</th></tr></thead><tbody><tr><td class = \"rowNumber\" style = \"font-weight: bold; text-align: right;\">1</td><td style = \"text-align: left;\">Nadin</td><td style = \"text-align: left;\">Schäfer</td><td style = \"text-align: right;\">10</td><td style = \"text-align: left;\">w</td></tr><tr><td class = \"rowNumber\" style = \"font-weight: bold; text-align: right;\">2</td><td style = \"text-align: left;\">Thomas</td><td style = \"text-align: left;\">Gulde</td><td style = \"text-align: right;\">44</td><td style = \"text-align: left;\">m</td></tr><tr><td class = \"rowNumber\" style = \"font-weight: bold; text-align: right;\">3</td><td style = \"text-align: left;\">Johanna</td><td style = \"text-align: left;\">Müller</td><td style = \"text-align: right;\">28</td><td style = \"text-align: left;\">w</td></tr><tr><td class = \"rowNumber\" style = \"font-weight: bold; text-align: right;\">4</td><td style = \"text-align: left;\">Frank</td><td style = \"text-align: left;\">Zimmer</td><td style = \"text-align: right;\">45</td><td style = \"text-align: left;\">m</td></tr><tr><td class = \"rowNumber\" style = \"font-weight: bold; text-align: right;\">5</td><td style = \"text-align: left;\">Karl</td><td style = \"text-align: left;\">Schmidt</td><td style = \"text-align: right;\">37</td><td style = \"text-align: left;\">m</td></tr></tbody></table></div>"
      ],
      "text/latex": [
       "\\begin{tabular}{r|cccc}\n",
       "\t& name & nachname & alter & geschlecht\\\\\n",
       "\t\\hline\n",
       "\t& String & String & Int64 & String\\\\\n",
       "\t\\hline\n",
       "\t1 & Nadin & Schäfer & 10 & w \\\\\n",
       "\t2 & Thomas & Gulde & 44 & m \\\\\n",
       "\t3 & Johanna & Müller & 28 & w \\\\\n",
       "\t4 & Frank & Zimmer & 45 & m \\\\\n",
       "\t5 & Karl & Schmidt & 37 & m \\\\\n",
       "\\end{tabular}\n"
      ],
      "text/plain": [
       "\u001b[1m5×4 DataFrame\u001b[0m\n",
       "\u001b[1m Row \u001b[0m│\u001b[1m name    \u001b[0m\u001b[1m nachname \u001b[0m\u001b[1m alter \u001b[0m\u001b[1m geschlecht \u001b[0m\n",
       "     │\u001b[90m String  \u001b[0m\u001b[90m String   \u001b[0m\u001b[90m Int64 \u001b[0m\u001b[90m String     \u001b[0m\n",
       "─────┼──────────────────────────────────────\n",
       "   1 │ Nadin    Schäfer      10  w\n",
       "   2 │ Thomas   Gulde        44  m\n",
       "   3 │ Johanna  Müller       28  w\n",
       "   4 │ Frank    Zimmer       45  m\n",
       "   5 │ Karl     Schmidt      37  m"
      ]
     },
     "execution_count": 7,
     "metadata": {},
     "output_type": "execute_result"
    }
   ],
   "source": [
    "pushfirst!(personen,(name=\"Thomas\",nachname=\"Gulde\",alter=44,geschlecht=\"m\"))\n",
    "pushfirst!(personen,(name=\"Nadin\",nachname=\"Schäfer\",alter=10,geschlecht=\"w\"))"
   ]
  },
  {
   "cell_type": "markdown",
   "metadata": {},
   "source": [
    "Mit dem folgenden Kommando kann man eine Zeile extrahieren:"
   ]
  },
  {
   "cell_type": "code",
   "execution_count": 8,
   "metadata": {},
   "outputs": [
    {
     "data": {
      "text/html": [
       "<div><div style = \"float: left;\"><span>DataFrameRow (4 columns)</span></div><div style = \"clear: both;\"></div></div><div class = \"data-frame\" style = \"overflow-x: scroll;\"><table class = \"data-frame\" style = \"margin-bottom: 6px;\"><thead><tr class = \"header\"><th class = \"rowLabel\" style = \"font-weight: bold; text-align: right;\">Row</th><th style = \"text-align: left;\">name</th><th style = \"text-align: left;\">nachname</th><th style = \"text-align: left;\">alter</th><th style = \"text-align: left;\">geschlecht</th></tr><tr class = \"subheader headerLastRow\"><th class = \"rowLabel\" style = \"font-weight: bold; text-align: right;\"></th><th title = \"String\" style = \"text-align: left;\">String</th><th title = \"String\" style = \"text-align: left;\">String</th><th title = \"Int64\" style = \"text-align: left;\">Int64</th><th title = \"String\" style = \"text-align: left;\">String</th></tr></thead><tbody><tr><td class = \"rowLabel\" style = \"font-weight: bold; text-align: right;\">1</td><td style = \"text-align: left;\">Nadin</td><td style = \"text-align: left;\">Schäfer</td><td style = \"text-align: right;\">10</td><td style = \"text-align: left;\">w</td></tr></tbody></table></div>"
      ],
      "text/latex": [
       "\\begin{tabular}{r|cccc}\n",
       "\t& name & nachname & alter & geschlecht\\\\\n",
       "\t\\hline\n",
       "\t& String & String & Int64 & String\\\\\n",
       "\t\\hline\n",
       "\t1 & Nadin & Schäfer & 10 & w \\\\\n",
       "\\end{tabular}\n"
      ],
      "text/plain": [
       "\u001b[1mDataFrameRow\u001b[0m\n",
       "\u001b[1m Row \u001b[0m│\u001b[1m name   \u001b[0m\u001b[1m nachname \u001b[0m\u001b[1m alter \u001b[0m\u001b[1m geschlecht \u001b[0m\n",
       "     │\u001b[90m String \u001b[0m\u001b[90m String   \u001b[0m\u001b[90m Int64 \u001b[0m\u001b[90m String     \u001b[0m\n",
       "─────┼─────────────────────────────────────\n",
       "   1 │ Nadin   Schäfer      10  w"
      ]
     },
     "execution_count": 8,
     "metadata": {},
     "output_type": "execute_result"
    }
   ],
   "source": [
    "personen[1,:] #index der Zeile wird zur Extraktion genutzt"
   ]
  },
  {
   "cell_type": "markdown",
   "metadata": {},
   "source": [
    "und damit auch aktualisieren"
   ]
  },
  {
   "cell_type": "code",
   "execution_count": 9,
   "metadata": {},
   "outputs": [
    {
     "data": {
      "text/html": [
       "<div><div style = \"float: left;\"><span>5×4 DataFrame</span></div><div style = \"clear: both;\"></div></div><div class = \"data-frame\" style = \"overflow-x: scroll;\"><table class = \"data-frame\" style = \"margin-bottom: 6px;\"><thead><tr class = \"header\"><th class = \"rowNumber\" style = \"font-weight: bold; text-align: right;\">Row</th><th style = \"text-align: left;\">name</th><th style = \"text-align: left;\">nachname</th><th style = \"text-align: left;\">alter</th><th style = \"text-align: left;\">geschlecht</th></tr><tr class = \"subheader headerLastRow\"><th class = \"rowNumber\" style = \"font-weight: bold; text-align: right;\"></th><th title = \"String\" style = \"text-align: left;\">String</th><th title = \"String\" style = \"text-align: left;\">String</th><th title = \"Int64\" style = \"text-align: left;\">Int64</th><th title = \"String\" style = \"text-align: left;\">String</th></tr></thead><tbody><tr><td class = \"rowNumber\" style = \"font-weight: bold; text-align: right;\">1</td><td style = \"text-align: left;\">Nadin</td><td style = \"text-align: left;\">Schäfer</td><td style = \"text-align: right;\">35</td><td style = \"text-align: left;\">w</td></tr><tr><td class = \"rowNumber\" style = \"font-weight: bold; text-align: right;\">2</td><td style = \"text-align: left;\">Thomas</td><td style = \"text-align: left;\">Gulde</td><td style = \"text-align: right;\">44</td><td style = \"text-align: left;\">m</td></tr><tr><td class = \"rowNumber\" style = \"font-weight: bold; text-align: right;\">3</td><td style = \"text-align: left;\">Johanna</td><td style = \"text-align: left;\">Müller</td><td style = \"text-align: right;\">28</td><td style = \"text-align: left;\">w</td></tr><tr><td class = \"rowNumber\" style = \"font-weight: bold; text-align: right;\">4</td><td style = \"text-align: left;\">Frank</td><td style = \"text-align: left;\">Zimmer</td><td style = \"text-align: right;\">45</td><td style = \"text-align: left;\">m</td></tr><tr><td class = \"rowNumber\" style = \"font-weight: bold; text-align: right;\">5</td><td style = \"text-align: left;\">Karl</td><td style = \"text-align: left;\">Schmidt</td><td style = \"text-align: right;\">37</td><td style = \"text-align: left;\">m</td></tr></tbody></table></div>"
      ],
      "text/latex": [
       "\\begin{tabular}{r|cccc}\n",
       "\t& name & nachname & alter & geschlecht\\\\\n",
       "\t\\hline\n",
       "\t& String & String & Int64 & String\\\\\n",
       "\t\\hline\n",
       "\t1 & Nadin & Schäfer & 35 & w \\\\\n",
       "\t2 & Thomas & Gulde & 44 & m \\\\\n",
       "\t3 & Johanna & Müller & 28 & w \\\\\n",
       "\t4 & Frank & Zimmer & 45 & m \\\\\n",
       "\t5 & Karl & Schmidt & 37 & m \\\\\n",
       "\\end{tabular}\n"
      ],
      "text/plain": [
       "\u001b[1m5×4 DataFrame\u001b[0m\n",
       "\u001b[1m Row \u001b[0m│\u001b[1m name    \u001b[0m\u001b[1m nachname \u001b[0m\u001b[1m alter \u001b[0m\u001b[1m geschlecht \u001b[0m\n",
       "     │\u001b[90m String  \u001b[0m\u001b[90m String   \u001b[0m\u001b[90m Int64 \u001b[0m\u001b[90m String     \u001b[0m\n",
       "─────┼──────────────────────────────────────\n",
       "   1 │ Nadin    Schäfer      35  w\n",
       "   2 │ Thomas   Gulde        44  m\n",
       "   3 │ Johanna  Müller       28  w\n",
       "   4 │ Frank    Zimmer       45  m\n",
       "   5 │ Karl     Schmidt      37  m"
      ]
     },
     "execution_count": 9,
     "metadata": {},
     "output_type": "execute_result"
    }
   ],
   "source": [
    "personen[1,:alter] = 35; # um die Spalte auszuwählen, kann man das Symbol (Spaltenname) :alter nutzen\n",
    "personen"
   ]
  },
  {
   "cell_type": "markdown",
   "metadata": {},
   "source": [
    "mit dieser Notation kann man auch ganze Teile eines Dataframes extrahieren"
   ]
  },
  {
   "cell_type": "code",
   "execution_count": 11,
   "metadata": {},
   "outputs": [
    {
     "data": {
      "text/html": [
       "<div><div style = \"float: left;\"><span>3×2 DataFrame</span></div><div style = \"clear: both;\"></div></div><div class = \"data-frame\" style = \"overflow-x: scroll;\"><table class = \"data-frame\" style = \"margin-bottom: 6px;\"><thead><tr class = \"header\"><th class = \"rowNumber\" style = \"font-weight: bold; text-align: right;\">Row</th><th style = \"text-align: left;\">alter</th><th style = \"text-align: left;\">name</th></tr><tr class = \"subheader headerLastRow\"><th class = \"rowNumber\" style = \"font-weight: bold; text-align: right;\"></th><th title = \"Int64\" style = \"text-align: left;\">Int64</th><th title = \"String\" style = \"text-align: left;\">String</th></tr></thead><tbody><tr><td class = \"rowNumber\" style = \"font-weight: bold; text-align: right;\">1</td><td style = \"text-align: right;\">35</td><td style = \"text-align: left;\">Nadin</td></tr><tr><td class = \"rowNumber\" style = \"font-weight: bold; text-align: right;\">2</td><td style = \"text-align: right;\">44</td><td style = \"text-align: left;\">Thomas</td></tr><tr><td class = \"rowNumber\" style = \"font-weight: bold; text-align: right;\">3</td><td style = \"text-align: right;\">28</td><td style = \"text-align: left;\">Johanna</td></tr></tbody></table></div>"
      ],
      "text/latex": [
       "\\begin{tabular}{r|cc}\n",
       "\t& alter & name\\\\\n",
       "\t\\hline\n",
       "\t& Int64 & String\\\\\n",
       "\t\\hline\n",
       "\t1 & 35 & Nadin \\\\\n",
       "\t2 & 44 & Thomas \\\\\n",
       "\t3 & 28 & Johanna \\\\\n",
       "\\end{tabular}\n"
      ],
      "text/plain": [
       "\u001b[1m3×2 DataFrame\u001b[0m\n",
       "\u001b[1m Row \u001b[0m│\u001b[1m alter \u001b[0m\u001b[1m name    \u001b[0m\n",
       "     │\u001b[90m Int64 \u001b[0m\u001b[90m String  \u001b[0m\n",
       "─────┼────────────────\n",
       "   1 │    35  Nadin\n",
       "   2 │    44  Thomas\n",
       "   3 │    28  Johanna"
      ]
     },
     "execution_count": 11,
     "metadata": {},
     "output_type": "execute_result"
    }
   ],
   "source": [
    "personen_reduziert = personen[1:3,[:alter,:name]]"
   ]
  },
  {
   "cell_type": "code",
   "execution_count": 14,
   "metadata": {},
   "outputs": [
    {
     "data": {
      "text/html": [
       "<p><b>GroupedDataFrame with 2 groups based on key: geschlecht</b></p><div><div style = \"float: left;\"><span>First Group (2 rows): geschlecht = &quot;w&quot;</span></div><div style = \"clear: both;\"></div></div><div class = \"data-frame\" style = \"overflow-x: scroll;\"><table class = \"data-frame\" style = \"margin-bottom: 6px;\"><thead><tr class = \"header\"><th class = \"rowNumber\" style = \"font-weight: bold; text-align: right;\">Row</th><th style = \"text-align: left;\">name</th><th style = \"text-align: left;\">nachname</th><th style = \"text-align: left;\">alter</th><th style = \"text-align: left;\">geschlecht</th></tr><tr class = \"subheader headerLastRow\"><th class = \"rowNumber\" style = \"font-weight: bold; text-align: right;\"></th><th title = \"String\" style = \"text-align: left;\">String</th><th title = \"String\" style = \"text-align: left;\">String</th><th title = \"Int64\" style = \"text-align: left;\">Int64</th><th title = \"String\" style = \"text-align: left;\">String</th></tr></thead><tbody><tr><td class = \"rowNumber\" style = \"font-weight: bold; text-align: right;\">1</td><td style = \"text-align: left;\">Nadin</td><td style = \"text-align: left;\">Schäfer</td><td style = \"text-align: right;\">35</td><td style = \"text-align: left;\">w</td></tr><tr><td class = \"rowNumber\" style = \"font-weight: bold; text-align: right;\">2</td><td style = \"text-align: left;\">Johanna</td><td style = \"text-align: left;\">Müller</td><td style = \"text-align: right;\">28</td><td style = \"text-align: left;\">w</td></tr></tbody></table></div><p>&vellip;</p><div><div style = \"float: left;\"><span>Last Group (3 rows): geschlecht = &quot;m&quot;</span></div><div style = \"clear: both;\"></div></div><div class = \"data-frame\" style = \"overflow-x: scroll;\"><table class = \"data-frame\" style = \"margin-bottom: 6px;\"><thead><tr class = \"header\"><th class = \"rowNumber\" style = \"font-weight: bold; text-align: right;\">Row</th><th style = \"text-align: left;\">name</th><th style = \"text-align: left;\">nachname</th><th style = \"text-align: left;\">alter</th><th style = \"text-align: left;\">geschlecht</th></tr><tr class = \"subheader headerLastRow\"><th class = \"rowNumber\" style = \"font-weight: bold; text-align: right;\"></th><th title = \"String\" style = \"text-align: left;\">String</th><th title = \"String\" style = \"text-align: left;\">String</th><th title = \"Int64\" style = \"text-align: left;\">Int64</th><th title = \"String\" style = \"text-align: left;\">String</th></tr></thead><tbody><tr><td class = \"rowNumber\" style = \"font-weight: bold; text-align: right;\">1</td><td style = \"text-align: left;\">Thomas</td><td style = \"text-align: left;\">Gulde</td><td style = \"text-align: right;\">44</td><td style = \"text-align: left;\">m</td></tr><tr><td class = \"rowNumber\" style = \"font-weight: bold; text-align: right;\">2</td><td style = \"text-align: left;\">Frank</td><td style = \"text-align: left;\">Zimmer</td><td style = \"text-align: right;\">45</td><td style = \"text-align: left;\">m</td></tr><tr><td class = \"rowNumber\" style = \"font-weight: bold; text-align: right;\">3</td><td style = \"text-align: left;\">Karl</td><td style = \"text-align: left;\">Schmidt</td><td style = \"text-align: right;\">37</td><td style = \"text-align: left;\">m</td></tr></tbody></table></div>"
      ],
      "text/latex": [
       "GroupedDataFrame with 2 groups based on key: geschlecht\n",
       "\n",
       "First Group (2 rows): geschlecht = \"w\"\n",
       "\n",
       "\\begin{tabular}{r|cccc}\n",
       "\t& name & nachname & alter & geschlecht\\\\\n",
       "\t\\hline\n",
       "\t& String & String & Int64 & String\\\\\n",
       "\t\\hline\n",
       "\t1 & Nadin & Schäfer & 35 & w \\\\\n",
       "\t2 & Johanna & Müller & 28 & w \\\\\n",
       "\\end{tabular}\n",
       "\n",
       "$\\dots$\n",
       "\n",
       "Last Group (3 rows): geschlecht = \"m\"\n",
       "\n",
       "\\begin{tabular}{r|cccc}\n",
       "\t& name & nachname & alter & geschlecht\\\\\n",
       "\t\\hline\n",
       "\t& String & String & Int64 & String\\\\\n",
       "\t\\hline\n",
       "\t1 & Thomas & Gulde & 44 & m \\\\\n",
       "\t2 & Frank & Zimmer & 45 & m \\\\\n",
       "\t3 & Karl & Schmidt & 37 & m \\\\\n",
       "\\end{tabular}\n"
      ],
      "text/plain": [
       "GroupedDataFrame with 2 groups based on key: geschlecht\n",
       "First Group (2 rows): geschlecht = \"w\"\n",
       "\u001b[1m Row \u001b[0m│\u001b[1m name    \u001b[0m\u001b[1m nachname \u001b[0m\u001b[1m alter \u001b[0m\u001b[1m geschlecht \u001b[0m\n",
       "     │\u001b[90m String  \u001b[0m\u001b[90m String   \u001b[0m\u001b[90m Int64 \u001b[0m\u001b[90m String     \u001b[0m\n",
       "─────┼──────────────────────────────────────\n",
       "   1 │ Nadin    Schäfer      35  w\n",
       "   2 │ Johanna  Müller       28  w\n",
       "⋮\n",
       "Last Group (3 rows): geschlecht = \"m\"\n",
       "\u001b[1m Row \u001b[0m│\u001b[1m name   \u001b[0m\u001b[1m nachname \u001b[0m\u001b[1m alter \u001b[0m\u001b[1m geschlecht \u001b[0m\n",
       "     │\u001b[90m String \u001b[0m\u001b[90m String   \u001b[0m\u001b[90m Int64 \u001b[0m\u001b[90m String     \u001b[0m\n",
       "─────┼─────────────────────────────────────\n",
       "   1 │ Thomas  Gulde        44  m\n",
       "   2 │ Frank   Zimmer       45  m\n",
       "   3 │ Karl    Schmidt      37  m"
      ]
     },
     "execution_count": 14,
     "metadata": {},
     "output_type": "execute_result"
    }
   ],
   "source": [
    "grouped = groupby(personen,:geschlecht)"
   ]
  },
  {
   "cell_type": "markdown",
   "metadata": {},
   "source": [
    "# Einlesen von Daten"
   ]
  },
  {
   "cell_type": "code",
   "execution_count": null,
   "metadata": {},
   "outputs": [],
   "source": []
  }
 ],
 "metadata": {
  "kernelspec": {
   "display_name": "Julia 1.10.0",
   "language": "julia",
   "name": "julia-1.10"
  },
  "language_info": {
   "file_extension": ".jl",
   "mimetype": "application/julia",
   "name": "julia",
   "version": "1.10.0"
  }
 },
 "nbformat": 4,
 "nbformat_minor": 2
}
