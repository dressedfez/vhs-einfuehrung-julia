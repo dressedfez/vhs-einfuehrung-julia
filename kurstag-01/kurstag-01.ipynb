{
 "cells": [
  {
   "cell_type": "markdown",
   "id": "8a1d765f-bd9c-494e-95af-4e4e8b4369eb",
   "metadata": {
    "editable": true,
    "slideshow": {
     "slide_type": ""
    },
    "tags": []
   },
   "source": [
    "# Einführung in Julia mit IJulia und Jupyter Notebooks"
   ]
  },
  {
   "cell_type": "markdown",
   "id": "bf2d3480-b105-44d0-af67-7e73c05530b2",
   "metadata": {},
   "source": [
    "Jupyter und Pluto Notebooks unterscheiden sich an einigen Stellen. Beide haben das Ziel des interaktiven Prototypings. Hier ein Paar Unterscheidungsmerkmale zwischen den beiden Notebook-Typen:\n",
    "\n",
    "## Pluto-Notebooks\n",
    "- sind reaktiv, d.h. Änderungen in einer Zelle propagieren durch alle logisch verbundenen Zellen. Dies bedeutet das Pluto-Notebooks immer in sich konsistent sind,\n",
    "- sind Teil des Julia-Ökosystem, \n",
    "- haben eine Dokumentation-Integration in die Pluto-Oberfläche,\n",
    "- erlauben das neudefinieren von eigenen Typen ohne, dass Julia neugestartet werden muss. Dies erlaubt einfaches Prototyping.\n",
    "\n",
    "## Jupyter-Notebooks\n",
    "- **nicht** reaktiv und **nicht** in sich konsistent,\n",
    "- kommen ursprünglich aus dem Python-Ökosystem,\n",
    "- haben **viele** Erweiterungsmöglichkeiten,\n",
    "- sind etablierter,\n",
    "- unterstützen neben Julia auch weitere Programmiersprachen (Kernel),\n",
    "- Dokumentation-Integration ist mittels `Contextual Help` verfügbar."
   ]
  },
  {
   "cell_type": "markdown",
   "id": "016dfe2f-eb1d-483d-9823-ee71bb80d3c1",
   "metadata": {},
   "source": [
    "## Beispiel: eigene Typen können nicht neu definiert werden"
   ]
  },
  {
   "cell_type": "code",
   "execution_count": 9,
   "id": "6b60a033-cdda-471f-b554-7cbf642af207",
   "metadata": {},
   "outputs": [],
   "source": [
    "struct Car\n",
    "    name::String\n",
    "end"
   ]
  },
  {
   "cell_type": "code",
   "execution_count": 6,
   "id": "257f8baa-110b-4252-a0ad-4b0ca875a0b8",
   "metadata": {},
   "outputs": [
    {
     "ename": "ErrorException",
     "evalue": "invalid redefinition of constant Main.Car",
     "output_type": "error",
     "traceback": [
      "invalid redefinition of constant Main.Car\n",
      "\n",
      "Stacktrace:\n",
      " [1] top-level scope\n",
      "   @ ~/private/vhs-einfuehrung-julia-2023/kurstag-01/jl_notebook_cell_df34fa98e69747e1a8f8a730347b8e2f_W4sZmlsZQ==.jl:1"
     ]
    }
   ],
   "source": [
    "struct Car\n",
    "    name::String\n",
    "    age::Int\n",
    "end"
   ]
  }
 ],
 "metadata": {
  "kernelspec": {
   "display_name": "Julia 1.10.6",
   "language": "julia",
   "name": "julia-1.10"
  },
  "language_info": {
   "file_extension": ".jl",
   "mimetype": "application/julia",
   "name": "julia",
   "version": "1.10.6"
  }
 },
 "nbformat": 4,
 "nbformat_minor": 5
}
